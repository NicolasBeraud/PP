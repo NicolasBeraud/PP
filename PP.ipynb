{
 "cells": [
  {
   "cell_type": "code",
   "execution_count": 11,
   "metadata": {
    "cellView": "code",
    "colab": {
     "base_uri": "https://localhost:8080/",
     "height": 289,
     "referenced_widgets": [
      "5eb5ee15b4bd4dee94a1dabfc46a1c64",
      "349be3c30a10402c9e72fc51bfe66b9f",
      "cec8af61da024ab5b367ee561be19e1b"
     ]
    },
    "executionInfo": {
     "elapsed": 2074,
     "status": "ok",
     "timestamp": 1616483329828,
     "user": {
      "displayName": "Béraud Nicolas",
      "photoUrl": "",
      "userId": "15320788473164144116"
     },
     "user_tz": -60
    },
    "id": "oMATz-gjLalZ",
    "outputId": "e5ef05d0-daec-4eb9-87f6-646b8645bc3d"
   },
   "outputs": [
    {
     "data": {
      "application/vnd.jupyter.widget-view+json": {
       "model_id": "c5ac9aed79fc45b9adc5bb75e7a2a87a",
       "version_major": 2,
       "version_minor": 0
      },
      "text/plain": [
       "Dropdown(description='Axes:', options=('no rotation', 'C', 'C + B'), value='no rotation')"
      ]
     },
     "metadata": {},
     "output_type": "display_data"
    },
    {
     "data": {
      "application/vnd.jupyter.widget-view+json": {
       "model_id": "d56954cdfcc14852b0111614ed95416a",
       "version_major": 2,
       "version_minor": 0
      },
      "text/plain": [
       "Text(value='0', description='Start angle')"
      ]
     },
     "metadata": {},
     "output_type": "display_data"
    },
    {
     "data": {
      "application/vnd.jupyter.widget-view+json": {
       "model_id": "253c6c46f9994744ac4f706d9bae1637",
       "version_major": 2,
       "version_minor": 0
      },
      "text/plain": [
       "FileUpload(value={}, description='Upload')"
      ]
     },
     "metadata": {},
     "output_type": "display_data"
    }
   ],
   "source": [
    "#@title Titre par défaut\n",
    "import ipywidgets as widgets\n",
    "import time\n",
    "import os\n",
    "import os.path\n",
    "from IPython.display import FileLink\n",
    "from IPython.display import display, Markdown, clear_output\n",
    "\n",
    "import sys\n",
    "#sys.path.insert(0,\"/content/drive/My Drive/ColabNotebooks\")\n",
    "from jbis import Jbi\n",
    "\n",
    "FILE_EXTENSION = \"JBI\"\n",
    "RAPID_SPEED = 50\n",
    "\n",
    "folder = widgets.Text(\n",
    "       value='DEMO',\n",
    "       description='Program folder', )\n",
    "menu = widgets.Dropdown(\n",
    "       options=['no rotation','C', 'C + B'],\n",
    "       value='no rotation',\n",
    "       description='Axes:')\n",
    "text = widgets.Text(\n",
    "       value='0',\n",
    "       description='Start angle', )\n",
    "\n",
    "uploader = widgets.FileUpload(multiple=False)\n",
    "def on_upload_change(change):\n",
    "    for uploaded_filename in uploader.value:\n",
    "      uploaded_file = uploader.value[uploaded_filename]\n",
    "      with open(uploaded_filename, 'wb') as file:\n",
    "          content = uploader.value[uploaded_filename]['content']\n",
    "          file.write( content)\n",
    "\n",
    "      input_path = uploaded_filename\n",
    "      print(input_path)\n",
    "      if os.path.isfile(input_path):\n",
    "         with open(input_path, 'r') as file:\n",
    "                C = False\n",
    "                D = False\n",
    "                if menu.value == 'C':\n",
    "                    C = True\n",
    "                elif menu.value == 'C + B':\n",
    "                    C = True\n",
    "                    D = True             \n",
    "                results = Jbi(folder.value,C,with_A=D, initial_B=float(text.value), input_path=uploaded_filename )\n",
    "                for result in results.files:\n",
    "                    display(FileLink(result))\n",
    "      \n",
    "      else:\n",
    "         print(\"error\")\n",
    "      print(\"fin2\")\n",
    "\n",
    "uploader.observe(on_upload_change, names='_counter')\n",
    "display(folder)\n",
    "display(menu)\n",
    "display(text)\n",
    "display(uploader)\n",
    "\n"
   ]
  },
  {
   "cell_type": "code",
   "execution_count": null,
   "metadata": {},
   "outputs": [],
   "source": []
  },
  {
   "cell_type": "code",
   "execution_count": null,
   "metadata": {},
   "outputs": [],
   "source": []
  },
  {
   "cell_type": "code",
   "execution_count": null,
   "metadata": {},
   "outputs": [],
   "source": []
  }
 ],
 "metadata": {
  "colab": {
   "authorship_tag": "ABX9TyP4KBnG6uXd+etCl9p7/og0",
   "collapsed_sections": [],
   "mount_file_id": "1pSrCSo-yLO7VJTS-ebUZNsBaQfmI-04q",
   "name": "Untitled0.ipynb",
   "provenance": []
  },
  "kernelspec": {
   "display_name": "Python 3",
   "language": "python",
   "name": "python3"
  },
  "language_info": {
   "codemirror_mode": {
    "name": "ipython",
    "version": 3
   },
   "file_extension": ".py",
   "mimetype": "text/x-python",
   "name": "python",
   "nbconvert_exporter": "python",
   "pygments_lexer": "ipython3",
   "version": "3.8.5"
  },
  "widgets": {
   "application/vnd.jupyter.widget-state+json": {
    "349be3c30a10402c9e72fc51bfe66b9f": {
     "model_module": "@jupyter-widgets/controls",
     "model_name": "ButtonStyleModel",
     "state": {
      "_model_module": "@jupyter-widgets/controls",
      "_model_module_version": "1.5.0",
      "_model_name": "ButtonStyleModel",
      "_view_count": null,
      "_view_module": "@jupyter-widgets/base",
      "_view_module_version": "1.2.0",
      "_view_name": "StyleView",
      "button_color": null,
      "font_weight": ""
     }
    },
    "5eb5ee15b4bd4dee94a1dabfc46a1c64": {
     "model_module": "@jupyter-widgets/controls",
     "model_name": "FileUploadModel",
     "state": {
      "_counter": 1,
      "_dom_classes": [],
      "_model_module": "@jupyter-widgets/controls",
      "_model_module_version": "1.5.0",
      "_model_name": "FileUploadModel",
      "_view_count": null,
      "_view_module": "@jupyter-widgets/controls",
      "_view_module_version": "1.5.0",
      "_view_name": "FileUploadView",
      "accept": "",
      "button_style": "",
      "data": [
       null
      ],
      "description": "Upload",
      "description_tooltip": null,
      "disabled": false,
      "error": "",
      "icon": "upload",
      "layout": "IPY_MODEL_cec8af61da024ab5b367ee561be19e1b",
      "metadata": [
       {
        "lastModified": 1616092978257,
        "name": "test1.APT",
        "size": 255,
        "type": ""
       }
      ],
      "multiple": false,
      "style": "IPY_MODEL_349be3c30a10402c9e72fc51bfe66b9f"
     }
    },
    "cec8af61da024ab5b367ee561be19e1b": {
     "model_module": "@jupyter-widgets/base",
     "model_name": "LayoutModel",
     "state": {
      "_model_module": "@jupyter-widgets/base",
      "_model_module_version": "1.2.0",
      "_model_name": "LayoutModel",
      "_view_count": null,
      "_view_module": "@jupyter-widgets/base",
      "_view_module_version": "1.2.0",
      "_view_name": "LayoutView",
      "align_content": null,
      "align_items": null,
      "align_self": null,
      "border": null,
      "bottom": null,
      "display": null,
      "flex": null,
      "flex_flow": null,
      "grid_area": null,
      "grid_auto_columns": null,
      "grid_auto_flow": null,
      "grid_auto_rows": null,
      "grid_column": null,
      "grid_gap": null,
      "grid_row": null,
      "grid_template_areas": null,
      "grid_template_columns": null,
      "grid_template_rows": null,
      "height": null,
      "justify_content": null,
      "justify_items": null,
      "left": null,
      "margin": null,
      "max_height": null,
      "max_width": null,
      "min_height": null,
      "min_width": null,
      "object_fit": null,
      "object_position": null,
      "order": null,
      "overflow": null,
      "overflow_x": null,
      "overflow_y": null,
      "padding": null,
      "right": null,
      "top": null,
      "visibility": null,
      "width": null
     }
    }
   }
  }
 },
 "nbformat": 4,
 "nbformat_minor": 4
}
